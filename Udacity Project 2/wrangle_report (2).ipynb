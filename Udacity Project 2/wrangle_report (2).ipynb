{
 "cells": [
  {
   "cell_type": "markdown",
   "metadata": {},
   "source": [
    "## Reporting: wragle_report\n",
    "* Create a **300-600 word written report** called \"wrangle_report.pdf\" or \"wrangle_report.html\" that briefly describes your wrangling efforts. This is to be framed as an internal document."
   ]
  },
  {
   "cell_type": "markdown",
   "metadata": {},
   "source": [
    "<h2> GATHERING THE DATA </h2>\n",
    "\n",
    "The first thing I did when I started working on this project was to manually download the file called \"twitter-archive-enhanced.csv\" provided for us by Udacity and stored it in a dataframe called \"twitter_archive\". After that, I used the requests library to programmatically download the file \"image-predictions.tsv\" from Udacity's server and named the dataframe \"image_prediction\". Lastly, I downloaded the tweet_json text file that was provided to us by Udacity and selected the columns I was interested in; id, retweet_count and favorite_count.\n",
    "\n",
    "I got my 3 dataframes; twitter_archive, image_prediction, tweet_json and I moved on to assessing phase.\n",
    "\n",
    "<h2> ASSESSING THE DATA </h2>\n",
    "\n",
    "The three tables were found to have some quality and tidiness issues.\n",
    "\n",
    "**QUALITY ISSUES**\n",
    "\n",
    "twitter_archive table\n",
    "<ul>\n",
    "    <li> Incorrect datatypes were found in the following columns; tweet_id, in_reply_to_status_id, in_reply_to_user_id, timestamp, retweeted_status_id, source, retweeted_status_user_id, retweeted_status_timestamp </li>\n",
    "    <li> typos in dog names like \"a,\" \"an,\" and \"really\" are not valid dog names </li>.\n",
    "    <li> some entries in some columns such as 'name' had a lot of missing values set to null </li>\n",
    "    <li> The source column had entries in html format which is non readable to humans</li>\n",
    "</ul>\n",
    "    image prediction table\n",
    "<ul>\n",
    "    <li> some coulmns are do not have proper descriptve names for clearer understanding, e.g p1, p2</li>\n",
    "    <li> The jpg_url column has some duplicates, and these duplicates has different id's. </li>\n",
    "    <li> Some entries have p1_dog, p2_dog, p3_dog set to false. These are not dogs </li>\n",
    "</ul>\n",
    "    tweet_json table\n",
    "<ul>\n",
    "    <li> incorrect datatype; tweet_id </li>\n",
    "</ul>\n",
    "\n",
    "**TIDINESS ISSUES**\n",
    "1. The columns, doggo, floofer, pupper and puppo in the tweet archive table which are all dog types are in seperate columns.\n",
    "\n",
    "2. Tweet_json dataframe should be merged with twitter_archive dataframe\n",
    "\n",
    "3. All the tables should be combined in one dataframe \n",
    "\n",
    "<h2> CLEANING THE DATA </h2>\n",
    "\n",
    "I first made copies of the dataframes.\n",
    "\n",
    "1. Those columns with a lot of null entries were dropped because they are not needed for analysis.\n",
    "2. I converted tweet_id from integer to string datatype, and also converted timestamp from object datatype to datetime data type in the twitter_archive table.\n",
    "3. I removed HTML from rows in source column\n",
    "4. I replace all the invalid names (lower case names) with NaN\n",
    "5. I Renamed columns for better description\n",
    "6. I dropped duplicated URL in Jpg_url column\n",
    "7. I Drop rows that have p1_dog, p2_dog, p3_dog values set to false\n",
    "8. I converted all the tweet_id columns to datatype string, for easy merging\n",
    "9. I combined the 4 columns; doggo, floofer, pupper and puppo into one column named dog_type\n",
    "10. I merged the tweet_json dataframe with twitter_archive dataframe into a dataframe named twitter_df\n",
    "11. I merged the tweet_json dataframe with twitter_archive dataframe into a dataframe named twitter_df\n",
    "\n",
    "<h2> STORING THE DATA </h2>\n",
    "Now the dataset is clean and ready for analysis. I saved the dataframe to twitter_archive_master.csv. Then I started my investigation.\n"
   ]
  }
 ],
 "metadata": {
  "kernelspec": {
   "display_name": "Python 3",
   "language": "python",
   "name": "python3"
  },
  "language_info": {
   "codemirror_mode": {
    "name": "ipython",
    "version": 3
   },
   "file_extension": ".py",
   "mimetype": "text/x-python",
   "name": "python",
   "nbconvert_exporter": "python",
   "pygments_lexer": "ipython3",
   "version": "3.6.3"
  }
 },
 "nbformat": 4,
 "nbformat_minor": 2
}
